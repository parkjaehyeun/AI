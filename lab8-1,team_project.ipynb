{
  "nbformat": 4,
  "nbformat_minor": 0,
  "metadata": {
    "colab": {
      "name": "Untitled8.ipynb",
      "provenance": []
    },
    "kernelspec": {
      "name": "python3",
      "display_name": "Python 3"
    },
    "language_info": {
      "name": "python"
    }
  },
  "cells": [
    {
      "cell_type": "code",
      "metadata": {
        "id": "MJfDFtqIGjyS"
      },
      "source": [
        "import tensorflow as tf\n",
        "from tensorflow import keras\n",
        "import numpy as np\n",
        "import matplotlib.pyplot as plt"
      ],
      "execution_count": 2,
      "outputs": []
    },
    {
      "cell_type": "code",
      "metadata": {
        "colab": {
          "base_uri": "https://localhost:8080/"
        },
        "id": "-vGOiZiWGsOO",
        "outputId": "bc2cfc7c-6144-4fef-b9d1-ac1dc18829de"
      },
      "source": [
        "fashion_mnist = keras.datasets.fashion_mnist\n",
        "(train_images , train_labels), (test_images, test_labels) = fashion_mnist.load_data()"
      ],
      "execution_count": 3,
      "outputs": [
        {
          "output_type": "stream",
          "name": "stdout",
          "text": [
            "Downloading data from https://storage.googleapis.com/tensorflow/tf-keras-datasets/train-labels-idx1-ubyte.gz\n",
            "32768/29515 [=================================] - 0s 0us/step\n",
            "40960/29515 [=========================================] - 0s 0us/step\n",
            "Downloading data from https://storage.googleapis.com/tensorflow/tf-keras-datasets/train-images-idx3-ubyte.gz\n",
            "26427392/26421880 [==============================] - 0s 0us/step\n",
            "26435584/26421880 [==============================] - 0s 0us/step\n",
            "Downloading data from https://storage.googleapis.com/tensorflow/tf-keras-datasets/t10k-labels-idx1-ubyte.gz\n",
            "16384/5148 [===============================================================================================] - 0s 0us/step\n",
            "Downloading data from https://storage.googleapis.com/tensorflow/tf-keras-datasets/t10k-images-idx3-ubyte.gz\n",
            "4423680/4422102 [==============================] - 0s 0us/step\n",
            "4431872/4422102 [==============================] - 0s 0us/step\n"
          ]
        }
      ]
    },
    {
      "cell_type": "code",
      "metadata": {
        "colab": {
          "base_uri": "https://localhost:8080/"
        },
        "id": "USik9G0AHUP7",
        "outputId": "1523a8be-4c46-48d9-cb9e-a27ae1210746"
      },
      "source": [
        "print(train_images.shape)\n",
        "print(train_labels)\n",
        "print(test_images.shape)"
      ],
      "execution_count": 4,
      "outputs": [
        {
          "output_type": "stream",
          "name": "stdout",
          "text": [
            "(60000, 28, 28)\n",
            "[9 0 0 ... 3 0 5]\n",
            "(10000, 28, 28)\n"
          ]
        }
      ]
    },
    {
      "cell_type": "code",
      "metadata": {
        "id": "uV7IAuJFHcSt"
      },
      "source": [
        "train_images, test_images = train_images/255, test_images/255\n",
        "model = keras.models.Sequential([\n",
        "  keras.layers.Flatten(input_shape = (28,28)),\n",
        "  keras.layers.Dropout(0.2),                               \n",
        "  keras.layers.Dense(128, activation = 'relu'),\n",
        "  keras.layers.Dense(32, activation = 'relu'),                              \n",
        "  keras.layers.Dense(10, activation = 'softmax')                              \n",
        "])"
      ],
      "execution_count": 5,
      "outputs": []
    },
    {
      "cell_type": "code",
      "metadata": {
        "colab": {
          "base_uri": "https://localhost:8080/"
        },
        "id": "hIP6Ol7oIvdq",
        "outputId": "e6e04e8b-0682-4ba4-d2d7-2d4c9c6cf0a2"
      },
      "source": [
        "model.compile(optimizer='adam',\n",
        "              loss = 'sparse_categorical_crossentropy',\n",
        "              metrics = ['accuracy'])\n",
        "history = model.fit(train_images, train_labels, batch_size =64,\n",
        "                    epochs =200, validation_split = 0.25)"
      ],
      "execution_count": 7,
      "outputs": [
        {
          "output_type": "stream",
          "name": "stdout",
          "text": [
            "Epoch 1/200\n",
            "704/704 [==============================] - 4s 5ms/step - loss: 0.3004 - accuracy: 0.8861 - val_loss: 0.3130 - val_accuracy: 0.8857\n",
            "Epoch 2/200\n",
            "704/704 [==============================] - 3s 4ms/step - loss: 0.2935 - accuracy: 0.8901 - val_loss: 0.3150 - val_accuracy: 0.8866\n",
            "Epoch 3/200\n",
            "704/704 [==============================] - 3s 4ms/step - loss: 0.2889 - accuracy: 0.8909 - val_loss: 0.3083 - val_accuracy: 0.8905\n",
            "Epoch 4/200\n",
            "704/704 [==============================] - 3s 4ms/step - loss: 0.2834 - accuracy: 0.8921 - val_loss: 0.3122 - val_accuracy: 0.8881\n",
            "Epoch 5/200\n",
            "704/704 [==============================] - 3s 4ms/step - loss: 0.2797 - accuracy: 0.8942 - val_loss: 0.3127 - val_accuracy: 0.8852\n",
            "Epoch 6/200\n",
            "704/704 [==============================] - 3s 4ms/step - loss: 0.2737 - accuracy: 0.8961 - val_loss: 0.3128 - val_accuracy: 0.8872\n",
            "Epoch 7/200\n",
            "704/704 [==============================] - 3s 4ms/step - loss: 0.2696 - accuracy: 0.8970 - val_loss: 0.3282 - val_accuracy: 0.8821\n",
            "Epoch 8/200\n",
            "704/704 [==============================] - 3s 4ms/step - loss: 0.2661 - accuracy: 0.8997 - val_loss: 0.3064 - val_accuracy: 0.8897\n",
            "Epoch 9/200\n",
            "704/704 [==============================] - 3s 5ms/step - loss: 0.2614 - accuracy: 0.9020 - val_loss: 0.2982 - val_accuracy: 0.8896\n",
            "Epoch 10/200\n",
            "704/704 [==============================] - 3s 4ms/step - loss: 0.2610 - accuracy: 0.9011 - val_loss: 0.3083 - val_accuracy: 0.8895\n",
            "Epoch 11/200\n",
            "704/704 [==============================] - 3s 5ms/step - loss: 0.2582 - accuracy: 0.9028 - val_loss: 0.3076 - val_accuracy: 0.8917\n",
            "Epoch 12/200\n",
            "704/704 [==============================] - 3s 4ms/step - loss: 0.2535 - accuracy: 0.9028 - val_loss: 0.3136 - val_accuracy: 0.8869\n",
            "Epoch 13/200\n",
            "704/704 [==============================] - 3s 4ms/step - loss: 0.2506 - accuracy: 0.9046 - val_loss: 0.3112 - val_accuracy: 0.8883\n",
            "Epoch 14/200\n",
            "704/704 [==============================] - 3s 4ms/step - loss: 0.2456 - accuracy: 0.9068 - val_loss: 0.3092 - val_accuracy: 0.8901\n",
            "Epoch 15/200\n",
            "704/704 [==============================] - 3s 4ms/step - loss: 0.2474 - accuracy: 0.9060 - val_loss: 0.3018 - val_accuracy: 0.8935\n",
            "Epoch 16/200\n",
            "704/704 [==============================] - 3s 4ms/step - loss: 0.2439 - accuracy: 0.9061 - val_loss: 0.3141 - val_accuracy: 0.8875\n",
            "Epoch 17/200\n",
            "704/704 [==============================] - 3s 4ms/step - loss: 0.2405 - accuracy: 0.9085 - val_loss: 0.3057 - val_accuracy: 0.8905\n",
            "Epoch 18/200\n",
            "704/704 [==============================] - 3s 5ms/step - loss: 0.2374 - accuracy: 0.9098 - val_loss: 0.3098 - val_accuracy: 0.8929\n",
            "Epoch 19/200\n",
            "704/704 [==============================] - 3s 4ms/step - loss: 0.2348 - accuracy: 0.9097 - val_loss: 0.3179 - val_accuracy: 0.8914\n",
            "Epoch 20/200\n",
            "704/704 [==============================] - 3s 4ms/step - loss: 0.2329 - accuracy: 0.9121 - val_loss: 0.3143 - val_accuracy: 0.8941\n",
            "Epoch 21/200\n",
            "704/704 [==============================] - 3s 4ms/step - loss: 0.2311 - accuracy: 0.9120 - val_loss: 0.3086 - val_accuracy: 0.8919\n",
            "Epoch 22/200\n",
            "704/704 [==============================] - 3s 4ms/step - loss: 0.2263 - accuracy: 0.9133 - val_loss: 0.3131 - val_accuracy: 0.8915\n",
            "Epoch 23/200\n",
            "704/704 [==============================] - 3s 4ms/step - loss: 0.2261 - accuracy: 0.9136 - val_loss: 0.3120 - val_accuracy: 0.8922\n",
            "Epoch 24/200\n",
            "704/704 [==============================] - 3s 4ms/step - loss: 0.2252 - accuracy: 0.9138 - val_loss: 0.3078 - val_accuracy: 0.8943\n",
            "Epoch 25/200\n",
            "704/704 [==============================] - 3s 4ms/step - loss: 0.2249 - accuracy: 0.9143 - val_loss: 0.2989 - val_accuracy: 0.8962\n",
            "Epoch 26/200\n",
            "704/704 [==============================] - 3s 4ms/step - loss: 0.2217 - accuracy: 0.9158 - val_loss: 0.3035 - val_accuracy: 0.8967\n",
            "Epoch 27/200\n",
            "704/704 [==============================] - 3s 4ms/step - loss: 0.2187 - accuracy: 0.9166 - val_loss: 0.3287 - val_accuracy: 0.8901\n",
            "Epoch 28/200\n",
            "704/704 [==============================] - 3s 4ms/step - loss: 0.2200 - accuracy: 0.9155 - val_loss: 0.3149 - val_accuracy: 0.8900\n",
            "Epoch 29/200\n",
            "704/704 [==============================] - 3s 4ms/step - loss: 0.2221 - accuracy: 0.9151 - val_loss: 0.2951 - val_accuracy: 0.8959\n",
            "Epoch 30/200\n",
            "704/704 [==============================] - 3s 4ms/step - loss: 0.2132 - accuracy: 0.9197 - val_loss: 0.3061 - val_accuracy: 0.8957\n",
            "Epoch 31/200\n",
            "704/704 [==============================] - 3s 4ms/step - loss: 0.2164 - accuracy: 0.9177 - val_loss: 0.3047 - val_accuracy: 0.8960\n",
            "Epoch 32/200\n",
            "704/704 [==============================] - 3s 4ms/step - loss: 0.2132 - accuracy: 0.9181 - val_loss: 0.3164 - val_accuracy: 0.8919\n",
            "Epoch 33/200\n",
            "704/704 [==============================] - 3s 4ms/step - loss: 0.2131 - accuracy: 0.9181 - val_loss: 0.3152 - val_accuracy: 0.8929\n",
            "Epoch 34/200\n",
            "704/704 [==============================] - 3s 4ms/step - loss: 0.2104 - accuracy: 0.9215 - val_loss: 0.3214 - val_accuracy: 0.8914\n",
            "Epoch 35/200\n",
            "704/704 [==============================] - 3s 4ms/step - loss: 0.2091 - accuracy: 0.9200 - val_loss: 0.3099 - val_accuracy: 0.8955\n",
            "Epoch 36/200\n",
            "704/704 [==============================] - 3s 4ms/step - loss: 0.2116 - accuracy: 0.9200 - val_loss: 0.3040 - val_accuracy: 0.8978\n",
            "Epoch 37/200\n",
            "704/704 [==============================] - 3s 4ms/step - loss: 0.2035 - accuracy: 0.9230 - val_loss: 0.3122 - val_accuracy: 0.8943\n",
            "Epoch 38/200\n",
            "704/704 [==============================] - 3s 5ms/step - loss: 0.2050 - accuracy: 0.9212 - val_loss: 0.3186 - val_accuracy: 0.8940\n",
            "Epoch 39/200\n",
            "704/704 [==============================] - 3s 4ms/step - loss: 0.2027 - accuracy: 0.9240 - val_loss: 0.3051 - val_accuracy: 0.8970\n",
            "Epoch 40/200\n",
            "704/704 [==============================] - 3s 4ms/step - loss: 0.2020 - accuracy: 0.9226 - val_loss: 0.3283 - val_accuracy: 0.8909\n",
            "Epoch 41/200\n",
            "704/704 [==============================] - 3s 4ms/step - loss: 0.2020 - accuracy: 0.9226 - val_loss: 0.3232 - val_accuracy: 0.8919\n",
            "Epoch 42/200\n",
            "704/704 [==============================] - 3s 4ms/step - loss: 0.2010 - accuracy: 0.9221 - val_loss: 0.3112 - val_accuracy: 0.8993\n",
            "Epoch 43/200\n",
            "704/704 [==============================] - 3s 4ms/step - loss: 0.2033 - accuracy: 0.9240 - val_loss: 0.3129 - val_accuracy: 0.8965\n",
            "Epoch 44/200\n",
            "704/704 [==============================] - 3s 4ms/step - loss: 0.2006 - accuracy: 0.9231 - val_loss: 0.3238 - val_accuracy: 0.8943\n",
            "Epoch 45/200\n",
            "704/704 [==============================] - 3s 4ms/step - loss: 0.1973 - accuracy: 0.9225 - val_loss: 0.3094 - val_accuracy: 0.8982\n",
            "Epoch 46/200\n",
            "704/704 [==============================] - 3s 4ms/step - loss: 0.1977 - accuracy: 0.9234 - val_loss: 0.3178 - val_accuracy: 0.8954\n",
            "Epoch 47/200\n",
            "704/704 [==============================] - 3s 4ms/step - loss: 0.1975 - accuracy: 0.9252 - val_loss: 0.3163 - val_accuracy: 0.8953\n",
            "Epoch 48/200\n",
            "704/704 [==============================] - 3s 5ms/step - loss: 0.1950 - accuracy: 0.9248 - val_loss: 0.3221 - val_accuracy: 0.8956\n",
            "Epoch 49/200\n",
            "704/704 [==============================] - 3s 4ms/step - loss: 0.1956 - accuracy: 0.9254 - val_loss: 0.3176 - val_accuracy: 0.8956\n",
            "Epoch 50/200\n",
            "704/704 [==============================] - 3s 4ms/step - loss: 0.1919 - accuracy: 0.9267 - val_loss: 0.3151 - val_accuracy: 0.8981\n",
            "Epoch 51/200\n",
            "704/704 [==============================] - 3s 4ms/step - loss: 0.1924 - accuracy: 0.9271 - val_loss: 0.3302 - val_accuracy: 0.8935\n",
            "Epoch 52/200\n",
            "704/704 [==============================] - 3s 4ms/step - loss: 0.1934 - accuracy: 0.9251 - val_loss: 0.3269 - val_accuracy: 0.8981\n",
            "Epoch 53/200\n",
            "704/704 [==============================] - 3s 4ms/step - loss: 0.1930 - accuracy: 0.9270 - val_loss: 0.3265 - val_accuracy: 0.8971\n",
            "Epoch 54/200\n",
            "704/704 [==============================] - 3s 4ms/step - loss: 0.1916 - accuracy: 0.9256 - val_loss: 0.3222 - val_accuracy: 0.8965\n",
            "Epoch 55/200\n",
            "704/704 [==============================] - 3s 4ms/step - loss: 0.1906 - accuracy: 0.9276 - val_loss: 0.3249 - val_accuracy: 0.8971\n",
            "Epoch 56/200\n",
            "704/704 [==============================] - 3s 5ms/step - loss: 0.1884 - accuracy: 0.9289 - val_loss: 0.3181 - val_accuracy: 0.8975\n",
            "Epoch 57/200\n",
            "704/704 [==============================] - 3s 4ms/step - loss: 0.1883 - accuracy: 0.9279 - val_loss: 0.3252 - val_accuracy: 0.8923\n",
            "Epoch 58/200\n",
            "704/704 [==============================] - 3s 4ms/step - loss: 0.1896 - accuracy: 0.9262 - val_loss: 0.3178 - val_accuracy: 0.8951\n",
            "Epoch 59/200\n",
            "704/704 [==============================] - 3s 4ms/step - loss: 0.1872 - accuracy: 0.9277 - val_loss: 0.3199 - val_accuracy: 0.8971\n",
            "Epoch 60/200\n",
            "704/704 [==============================] - 3s 4ms/step - loss: 0.1858 - accuracy: 0.9287 - val_loss: 0.3379 - val_accuracy: 0.8936\n",
            "Epoch 61/200\n",
            "704/704 [==============================] - 3s 5ms/step - loss: 0.1831 - accuracy: 0.9286 - val_loss: 0.3379 - val_accuracy: 0.8951\n",
            "Epoch 62/200\n",
            "704/704 [==============================] - 3s 5ms/step - loss: 0.1880 - accuracy: 0.9289 - val_loss: 0.3272 - val_accuracy: 0.8976\n",
            "Epoch 63/200\n",
            "704/704 [==============================] - 3s 4ms/step - loss: 0.1836 - accuracy: 0.9299 - val_loss: 0.3314 - val_accuracy: 0.8959\n",
            "Epoch 64/200\n",
            "704/704 [==============================] - 3s 4ms/step - loss: 0.1841 - accuracy: 0.9290 - val_loss: 0.3188 - val_accuracy: 0.8977\n",
            "Epoch 65/200\n",
            "704/704 [==============================] - 3s 4ms/step - loss: 0.1816 - accuracy: 0.9298 - val_loss: 0.3328 - val_accuracy: 0.8938\n",
            "Epoch 66/200\n",
            "704/704 [==============================] - 3s 4ms/step - loss: 0.1816 - accuracy: 0.9306 - val_loss: 0.3323 - val_accuracy: 0.8969\n",
            "Epoch 67/200\n",
            "704/704 [==============================] - 3s 5ms/step - loss: 0.1824 - accuracy: 0.9294 - val_loss: 0.3270 - val_accuracy: 0.8959\n",
            "Epoch 68/200\n",
            "704/704 [==============================] - 3s 4ms/step - loss: 0.1828 - accuracy: 0.9291 - val_loss: 0.3215 - val_accuracy: 0.8985\n",
            "Epoch 69/200\n",
            "704/704 [==============================] - 3s 5ms/step - loss: 0.1815 - accuracy: 0.9309 - val_loss: 0.3359 - val_accuracy: 0.8959\n",
            "Epoch 70/200\n",
            "704/704 [==============================] - 3s 4ms/step - loss: 0.1750 - accuracy: 0.9327 - val_loss: 0.3267 - val_accuracy: 0.8964\n",
            "Epoch 71/200\n",
            "704/704 [==============================] - 3s 4ms/step - loss: 0.1808 - accuracy: 0.9304 - val_loss: 0.3287 - val_accuracy: 0.8967\n",
            "Epoch 72/200\n",
            "704/704 [==============================] - 3s 4ms/step - loss: 0.1779 - accuracy: 0.9330 - val_loss: 0.3306 - val_accuracy: 0.8925\n",
            "Epoch 73/200\n",
            "704/704 [==============================] - 3s 5ms/step - loss: 0.1788 - accuracy: 0.9318 - val_loss: 0.3270 - val_accuracy: 0.8985\n",
            "Epoch 74/200\n",
            "704/704 [==============================] - 3s 4ms/step - loss: 0.1772 - accuracy: 0.9317 - val_loss: 0.3306 - val_accuracy: 0.8969\n",
            "Epoch 75/200\n",
            "704/704 [==============================] - 3s 4ms/step - loss: 0.1791 - accuracy: 0.9303 - val_loss: 0.3232 - val_accuracy: 0.8997\n",
            "Epoch 76/200\n",
            "704/704 [==============================] - 3s 4ms/step - loss: 0.1772 - accuracy: 0.9322 - val_loss: 0.3419 - val_accuracy: 0.8919\n",
            "Epoch 77/200\n",
            "704/704 [==============================] - 3s 4ms/step - loss: 0.1793 - accuracy: 0.9310 - val_loss: 0.3388 - val_accuracy: 0.8945\n",
            "Epoch 78/200\n",
            "704/704 [==============================] - 3s 5ms/step - loss: 0.1746 - accuracy: 0.9323 - val_loss: 0.3369 - val_accuracy: 0.8940\n",
            "Epoch 79/200\n",
            "704/704 [==============================] - 3s 4ms/step - loss: 0.1774 - accuracy: 0.9317 - val_loss: 0.3277 - val_accuracy: 0.8976\n",
            "Epoch 80/200\n",
            "704/704 [==============================] - 3s 5ms/step - loss: 0.1770 - accuracy: 0.9314 - val_loss: 0.3321 - val_accuracy: 0.8963\n",
            "Epoch 81/200\n",
            "704/704 [==============================] - 3s 4ms/step - loss: 0.1725 - accuracy: 0.9352 - val_loss: 0.3424 - val_accuracy: 0.8948\n",
            "Epoch 82/200\n",
            "704/704 [==============================] - 3s 4ms/step - loss: 0.1747 - accuracy: 0.9313 - val_loss: 0.3437 - val_accuracy: 0.8946\n",
            "Epoch 83/200\n",
            "704/704 [==============================] - 3s 4ms/step - loss: 0.1746 - accuracy: 0.9330 - val_loss: 0.3471 - val_accuracy: 0.8933\n",
            "Epoch 84/200\n",
            "704/704 [==============================] - 3s 4ms/step - loss: 0.1729 - accuracy: 0.9324 - val_loss: 0.3414 - val_accuracy: 0.8981\n",
            "Epoch 85/200\n",
            "704/704 [==============================] - 3s 5ms/step - loss: 0.1717 - accuracy: 0.9325 - val_loss: 0.3401 - val_accuracy: 0.8973\n",
            "Epoch 86/200\n",
            "704/704 [==============================] - 3s 4ms/step - loss: 0.1728 - accuracy: 0.9345 - val_loss: 0.3428 - val_accuracy: 0.8981\n",
            "Epoch 87/200\n",
            "704/704 [==============================] - 3s 5ms/step - loss: 0.1698 - accuracy: 0.9340 - val_loss: 0.3513 - val_accuracy: 0.8931\n",
            "Epoch 88/200\n",
            "704/704 [==============================] - 3s 4ms/step - loss: 0.1734 - accuracy: 0.9333 - val_loss: 0.3446 - val_accuracy: 0.8983\n",
            "Epoch 89/200\n",
            "704/704 [==============================] - 3s 5ms/step - loss: 0.1731 - accuracy: 0.9345 - val_loss: 0.3416 - val_accuracy: 0.8965\n",
            "Epoch 90/200\n",
            "704/704 [==============================] - 3s 5ms/step - loss: 0.1731 - accuracy: 0.9338 - val_loss: 0.3380 - val_accuracy: 0.8956\n",
            "Epoch 91/200\n",
            "704/704 [==============================] - 3s 4ms/step - loss: 0.1708 - accuracy: 0.9346 - val_loss: 0.3327 - val_accuracy: 0.8970\n",
            "Epoch 92/200\n",
            "704/704 [==============================] - 3s 4ms/step - loss: 0.1681 - accuracy: 0.9348 - val_loss: 0.3392 - val_accuracy: 0.8937\n",
            "Epoch 93/200\n",
            "704/704 [==============================] - 3s 4ms/step - loss: 0.1688 - accuracy: 0.9353 - val_loss: 0.3463 - val_accuracy: 0.8963\n",
            "Epoch 94/200\n",
            "704/704 [==============================] - 3s 4ms/step - loss: 0.1663 - accuracy: 0.9355 - val_loss: 0.3396 - val_accuracy: 0.8953\n",
            "Epoch 95/200\n",
            "704/704 [==============================] - 3s 4ms/step - loss: 0.1677 - accuracy: 0.9342 - val_loss: 0.3545 - val_accuracy: 0.8951\n",
            "Epoch 96/200\n",
            "704/704 [==============================] - 3s 4ms/step - loss: 0.1682 - accuracy: 0.9350 - val_loss: 0.3346 - val_accuracy: 0.8993\n",
            "Epoch 97/200\n",
            "704/704 [==============================] - 3s 4ms/step - loss: 0.1668 - accuracy: 0.9348 - val_loss: 0.3409 - val_accuracy: 0.8981\n",
            "Epoch 98/200\n",
            "704/704 [==============================] - 3s 4ms/step - loss: 0.1672 - accuracy: 0.9353 - val_loss: 0.3438 - val_accuracy: 0.8971\n",
            "Epoch 99/200\n",
            "704/704 [==============================] - 3s 5ms/step - loss: 0.1661 - accuracy: 0.9353 - val_loss: 0.3380 - val_accuracy: 0.8972\n",
            "Epoch 100/200\n",
            "704/704 [==============================] - 3s 4ms/step - loss: 0.1665 - accuracy: 0.9361 - val_loss: 0.3650 - val_accuracy: 0.8951\n",
            "Epoch 101/200\n",
            "704/704 [==============================] - 3s 4ms/step - loss: 0.1652 - accuracy: 0.9367 - val_loss: 0.3593 - val_accuracy: 0.8985\n",
            "Epoch 102/200\n",
            "704/704 [==============================] - 3s 4ms/step - loss: 0.1653 - accuracy: 0.9366 - val_loss: 0.3372 - val_accuracy: 0.8988\n",
            "Epoch 103/200\n",
            "704/704 [==============================] - 3s 4ms/step - loss: 0.1636 - accuracy: 0.9367 - val_loss: 0.3412 - val_accuracy: 0.8967\n",
            "Epoch 104/200\n",
            "704/704 [==============================] - 3s 4ms/step - loss: 0.1651 - accuracy: 0.9359 - val_loss: 0.3403 - val_accuracy: 0.8967\n",
            "Epoch 105/200\n",
            "704/704 [==============================] - 3s 4ms/step - loss: 0.1641 - accuracy: 0.9364 - val_loss: 0.3532 - val_accuracy: 0.8958\n",
            "Epoch 106/200\n",
            "704/704 [==============================] - 3s 4ms/step - loss: 0.1644 - accuracy: 0.9375 - val_loss: 0.3500 - val_accuracy: 0.8953\n",
            "Epoch 107/200\n",
            "704/704 [==============================] - 3s 4ms/step - loss: 0.1624 - accuracy: 0.9369 - val_loss: 0.3431 - val_accuracy: 0.8945\n",
            "Epoch 108/200\n",
            "704/704 [==============================] - 3s 4ms/step - loss: 0.1686 - accuracy: 0.9342 - val_loss: 0.3583 - val_accuracy: 0.8917\n",
            "Epoch 109/200\n",
            "704/704 [==============================] - 3s 4ms/step - loss: 0.1647 - accuracy: 0.9367 - val_loss: 0.3505 - val_accuracy: 0.8964\n",
            "Epoch 110/200\n",
            "704/704 [==============================] - 3s 4ms/step - loss: 0.1613 - accuracy: 0.9370 - val_loss: 0.3587 - val_accuracy: 0.8967\n",
            "Epoch 111/200\n",
            "704/704 [==============================] - 3s 4ms/step - loss: 0.1624 - accuracy: 0.9369 - val_loss: 0.3533 - val_accuracy: 0.8943\n",
            "Epoch 112/200\n",
            "704/704 [==============================] - 3s 4ms/step - loss: 0.1674 - accuracy: 0.9351 - val_loss: 0.3503 - val_accuracy: 0.8978\n",
            "Epoch 113/200\n",
            "704/704 [==============================] - 3s 4ms/step - loss: 0.1594 - accuracy: 0.9389 - val_loss: 0.3507 - val_accuracy: 0.8979\n",
            "Epoch 114/200\n",
            "704/704 [==============================] - 3s 4ms/step - loss: 0.1589 - accuracy: 0.9387 - val_loss: 0.3547 - val_accuracy: 0.8951\n",
            "Epoch 115/200\n",
            "704/704 [==============================] - 3s 5ms/step - loss: 0.1573 - accuracy: 0.9378 - val_loss: 0.3437 - val_accuracy: 0.8977\n",
            "Epoch 116/200\n",
            "704/704 [==============================] - 3s 4ms/step - loss: 0.1604 - accuracy: 0.9388 - val_loss: 0.3441 - val_accuracy: 0.8991\n",
            "Epoch 117/200\n",
            "704/704 [==============================] - 3s 5ms/step - loss: 0.1590 - accuracy: 0.9376 - val_loss: 0.3505 - val_accuracy: 0.8981\n",
            "Epoch 118/200\n",
            "704/704 [==============================] - 3s 4ms/step - loss: 0.1639 - accuracy: 0.9361 - val_loss: 0.3483 - val_accuracy: 0.8985\n",
            "Epoch 119/200\n",
            "704/704 [==============================] - 3s 4ms/step - loss: 0.1635 - accuracy: 0.9361 - val_loss: 0.3730 - val_accuracy: 0.8943\n",
            "Epoch 120/200\n",
            "704/704 [==============================] - 3s 4ms/step - loss: 0.1612 - accuracy: 0.9376 - val_loss: 0.3532 - val_accuracy: 0.8979\n",
            "Epoch 121/200\n",
            "704/704 [==============================] - 3s 4ms/step - loss: 0.1612 - accuracy: 0.9373 - val_loss: 0.3462 - val_accuracy: 0.8972\n",
            "Epoch 122/200\n",
            "704/704 [==============================] - 3s 4ms/step - loss: 0.1601 - accuracy: 0.9388 - val_loss: 0.3454 - val_accuracy: 0.8959\n",
            "Epoch 123/200\n",
            "704/704 [==============================] - 3s 4ms/step - loss: 0.1610 - accuracy: 0.9366 - val_loss: 0.3551 - val_accuracy: 0.8930\n",
            "Epoch 124/200\n",
            "704/704 [==============================] - 3s 4ms/step - loss: 0.1594 - accuracy: 0.9385 - val_loss: 0.3557 - val_accuracy: 0.8968\n",
            "Epoch 125/200\n",
            "704/704 [==============================] - 3s 4ms/step - loss: 0.1606 - accuracy: 0.9381 - val_loss: 0.3589 - val_accuracy: 0.8969\n",
            "Epoch 126/200\n",
            "704/704 [==============================] - 3s 4ms/step - loss: 0.1582 - accuracy: 0.9395 - val_loss: 0.3548 - val_accuracy: 0.8971\n",
            "Epoch 127/200\n",
            "704/704 [==============================] - 3s 4ms/step - loss: 0.1560 - accuracy: 0.9401 - val_loss: 0.3675 - val_accuracy: 0.8951\n",
            "Epoch 128/200\n",
            "704/704 [==============================] - 3s 5ms/step - loss: 0.1610 - accuracy: 0.9371 - val_loss: 0.3520 - val_accuracy: 0.8971\n",
            "Epoch 129/200\n",
            "704/704 [==============================] - 3s 4ms/step - loss: 0.1545 - accuracy: 0.9403 - val_loss: 0.3538 - val_accuracy: 0.8955\n",
            "Epoch 130/200\n",
            "704/704 [==============================] - 3s 4ms/step - loss: 0.1614 - accuracy: 0.9377 - val_loss: 0.3469 - val_accuracy: 0.8956\n",
            "Epoch 131/200\n",
            "704/704 [==============================] - 3s 4ms/step - loss: 0.1571 - accuracy: 0.9393 - val_loss: 0.3514 - val_accuracy: 0.8991\n",
            "Epoch 132/200\n",
            "704/704 [==============================] - 3s 4ms/step - loss: 0.1567 - accuracy: 0.9391 - val_loss: 0.3594 - val_accuracy: 0.8934\n",
            "Epoch 133/200\n",
            "704/704 [==============================] - 3s 4ms/step - loss: 0.1571 - accuracy: 0.9397 - val_loss: 0.3476 - val_accuracy: 0.8963\n",
            "Epoch 134/200\n",
            "704/704 [==============================] - 3s 5ms/step - loss: 0.1592 - accuracy: 0.9382 - val_loss: 0.3576 - val_accuracy: 0.8964\n",
            "Epoch 135/200\n",
            "704/704 [==============================] - 3s 5ms/step - loss: 0.1568 - accuracy: 0.9394 - val_loss: 0.3536 - val_accuracy: 0.8947\n",
            "Epoch 136/200\n",
            "704/704 [==============================] - 3s 4ms/step - loss: 0.1587 - accuracy: 0.9387 - val_loss: 0.3597 - val_accuracy: 0.8960\n",
            "Epoch 137/200\n",
            "704/704 [==============================] - 3s 4ms/step - loss: 0.1553 - accuracy: 0.9398 - val_loss: 0.3631 - val_accuracy: 0.8973\n",
            "Epoch 138/200\n",
            "704/704 [==============================] - 3s 4ms/step - loss: 0.1541 - accuracy: 0.9410 - val_loss: 0.3527 - val_accuracy: 0.8990\n",
            "Epoch 139/200\n",
            "704/704 [==============================] - 3s 4ms/step - loss: 0.1564 - accuracy: 0.9392 - val_loss: 0.3495 - val_accuracy: 0.8973\n",
            "Epoch 140/200\n",
            "704/704 [==============================] - 3s 4ms/step - loss: 0.1547 - accuracy: 0.9395 - val_loss: 0.3664 - val_accuracy: 0.8961\n",
            "Epoch 141/200\n",
            "704/704 [==============================] - 3s 4ms/step - loss: 0.1563 - accuracy: 0.9385 - val_loss: 0.3580 - val_accuracy: 0.8954\n",
            "Epoch 142/200\n",
            "704/704 [==============================] - 3s 4ms/step - loss: 0.1545 - accuracy: 0.9404 - val_loss: 0.3625 - val_accuracy: 0.8953\n",
            "Epoch 143/200\n",
            "704/704 [==============================] - 3s 4ms/step - loss: 0.1544 - accuracy: 0.9406 - val_loss: 0.3630 - val_accuracy: 0.8967\n",
            "Epoch 144/200\n",
            "704/704 [==============================] - 3s 4ms/step - loss: 0.1504 - accuracy: 0.9426 - val_loss: 0.3526 - val_accuracy: 0.8960\n",
            "Epoch 145/200\n",
            "704/704 [==============================] - 3s 4ms/step - loss: 0.1548 - accuracy: 0.9397 - val_loss: 0.3544 - val_accuracy: 0.8979\n",
            "Epoch 146/200\n",
            "704/704 [==============================] - 3s 4ms/step - loss: 0.1519 - accuracy: 0.9428 - val_loss: 0.3827 - val_accuracy: 0.8913\n",
            "Epoch 147/200\n",
            "704/704 [==============================] - 3s 4ms/step - loss: 0.1533 - accuracy: 0.9413 - val_loss: 0.3705 - val_accuracy: 0.8951\n",
            "Epoch 148/200\n",
            "704/704 [==============================] - 3s 4ms/step - loss: 0.1556 - accuracy: 0.9415 - val_loss: 0.3793 - val_accuracy: 0.8955\n",
            "Epoch 149/200\n",
            "704/704 [==============================] - 3s 4ms/step - loss: 0.1491 - accuracy: 0.9414 - val_loss: 0.3580 - val_accuracy: 0.8954\n",
            "Epoch 150/200\n",
            "704/704 [==============================] - 3s 4ms/step - loss: 0.1498 - accuracy: 0.9428 - val_loss: 0.3694 - val_accuracy: 0.8950\n",
            "Epoch 151/200\n",
            "704/704 [==============================] - 3s 4ms/step - loss: 0.1517 - accuracy: 0.9418 - val_loss: 0.3618 - val_accuracy: 0.8961\n",
            "Epoch 152/200\n",
            "704/704 [==============================] - 3s 4ms/step - loss: 0.1531 - accuracy: 0.9401 - val_loss: 0.3715 - val_accuracy: 0.8955\n",
            "Epoch 153/200\n",
            "704/704 [==============================] - 3s 4ms/step - loss: 0.1537 - accuracy: 0.9415 - val_loss: 0.3634 - val_accuracy: 0.8991\n",
            "Epoch 154/200\n",
            "704/704 [==============================] - 3s 4ms/step - loss: 0.1515 - accuracy: 0.9422 - val_loss: 0.3762 - val_accuracy: 0.8965\n",
            "Epoch 155/200\n",
            "704/704 [==============================] - 3s 4ms/step - loss: 0.1514 - accuracy: 0.9414 - val_loss: 0.3747 - val_accuracy: 0.8958\n",
            "Epoch 156/200\n",
            "704/704 [==============================] - 3s 4ms/step - loss: 0.1510 - accuracy: 0.9422 - val_loss: 0.3566 - val_accuracy: 0.8973\n",
            "Epoch 157/200\n",
            "704/704 [==============================] - 3s 4ms/step - loss: 0.1499 - accuracy: 0.9425 - val_loss: 0.3645 - val_accuracy: 0.8952\n",
            "Epoch 158/200\n",
            "704/704 [==============================] - 3s 4ms/step - loss: 0.1513 - accuracy: 0.9419 - val_loss: 0.3799 - val_accuracy: 0.8933\n",
            "Epoch 159/200\n",
            "704/704 [==============================] - 3s 4ms/step - loss: 0.1513 - accuracy: 0.9420 - val_loss: 0.3712 - val_accuracy: 0.8983\n",
            "Epoch 160/200\n",
            "704/704 [==============================] - 3s 4ms/step - loss: 0.1489 - accuracy: 0.9416 - val_loss: 0.3676 - val_accuracy: 0.8974\n",
            "Epoch 161/200\n",
            "704/704 [==============================] - 3s 4ms/step - loss: 0.1512 - accuracy: 0.9422 - val_loss: 0.3713 - val_accuracy: 0.8967\n",
            "Epoch 162/200\n",
            "704/704 [==============================] - 3s 4ms/step - loss: 0.1502 - accuracy: 0.9429 - val_loss: 0.3775 - val_accuracy: 0.8953\n",
            "Epoch 163/200\n",
            "704/704 [==============================] - 3s 4ms/step - loss: 0.1523 - accuracy: 0.9408 - val_loss: 0.3614 - val_accuracy: 0.8962\n",
            "Epoch 164/200\n",
            "704/704 [==============================] - 3s 4ms/step - loss: 0.1488 - accuracy: 0.9421 - val_loss: 0.3715 - val_accuracy: 0.8971\n",
            "Epoch 165/200\n",
            "704/704 [==============================] - 3s 4ms/step - loss: 0.1495 - accuracy: 0.9425 - val_loss: 0.3732 - val_accuracy: 0.8961\n",
            "Epoch 166/200\n",
            "704/704 [==============================] - 3s 4ms/step - loss: 0.1476 - accuracy: 0.9437 - val_loss: 0.3788 - val_accuracy: 0.8957\n",
            "Epoch 167/200\n",
            "704/704 [==============================] - 3s 4ms/step - loss: 0.1490 - accuracy: 0.9424 - val_loss: 0.3584 - val_accuracy: 0.8969\n",
            "Epoch 168/200\n",
            "704/704 [==============================] - 3s 4ms/step - loss: 0.1501 - accuracy: 0.9420 - val_loss: 0.3746 - val_accuracy: 0.8982\n",
            "Epoch 169/200\n",
            "704/704 [==============================] - 3s 4ms/step - loss: 0.1503 - accuracy: 0.9410 - val_loss: 0.3713 - val_accuracy: 0.8961\n",
            "Epoch 170/200\n",
            "704/704 [==============================] - 3s 4ms/step - loss: 0.1489 - accuracy: 0.9430 - val_loss: 0.3750 - val_accuracy: 0.8956\n",
            "Epoch 171/200\n",
            "704/704 [==============================] - 3s 4ms/step - loss: 0.1475 - accuracy: 0.9429 - val_loss: 0.3735 - val_accuracy: 0.8960\n",
            "Epoch 172/200\n",
            "704/704 [==============================] - 3s 4ms/step - loss: 0.1474 - accuracy: 0.9435 - val_loss: 0.3839 - val_accuracy: 0.8938\n",
            "Epoch 173/200\n",
            "704/704 [==============================] - 3s 4ms/step - loss: 0.1509 - accuracy: 0.9422 - val_loss: 0.3576 - val_accuracy: 0.8972\n",
            "Epoch 174/200\n",
            "704/704 [==============================] - 3s 4ms/step - loss: 0.1477 - accuracy: 0.9420 - val_loss: 0.3566 - val_accuracy: 0.8981\n",
            "Epoch 175/200\n",
            "704/704 [==============================] - 3s 4ms/step - loss: 0.1461 - accuracy: 0.9436 - val_loss: 0.3682 - val_accuracy: 0.8975\n",
            "Epoch 176/200\n",
            "704/704 [==============================] - 3s 4ms/step - loss: 0.1480 - accuracy: 0.9434 - val_loss: 0.3834 - val_accuracy: 0.8919\n",
            "Epoch 177/200\n",
            "704/704 [==============================] - 3s 4ms/step - loss: 0.1483 - accuracy: 0.9433 - val_loss: 0.3727 - val_accuracy: 0.8966\n",
            "Epoch 178/200\n",
            "704/704 [==============================] - 3s 4ms/step - loss: 0.1529 - accuracy: 0.9407 - val_loss: 0.3779 - val_accuracy: 0.8915\n",
            "Epoch 179/200\n",
            "704/704 [==============================] - 3s 4ms/step - loss: 0.1483 - accuracy: 0.9427 - val_loss: 0.3769 - val_accuracy: 0.8931\n",
            "Epoch 180/200\n",
            "704/704 [==============================] - 3s 4ms/step - loss: 0.1502 - accuracy: 0.9423 - val_loss: 0.3784 - val_accuracy: 0.8953\n",
            "Epoch 181/200\n",
            "704/704 [==============================] - 3s 4ms/step - loss: 0.1440 - accuracy: 0.9442 - val_loss: 0.3928 - val_accuracy: 0.8897\n",
            "Epoch 182/200\n",
            "704/704 [==============================] - 3s 4ms/step - loss: 0.1443 - accuracy: 0.9451 - val_loss: 0.3699 - val_accuracy: 0.8979\n",
            "Epoch 183/200\n",
            "704/704 [==============================] - 3s 4ms/step - loss: 0.1466 - accuracy: 0.9432 - val_loss: 0.3717 - val_accuracy: 0.8941\n",
            "Epoch 184/200\n",
            "704/704 [==============================] - 3s 4ms/step - loss: 0.1460 - accuracy: 0.9450 - val_loss: 0.3758 - val_accuracy: 0.8944\n",
            "Epoch 185/200\n",
            "704/704 [==============================] - 3s 4ms/step - loss: 0.1474 - accuracy: 0.9429 - val_loss: 0.3746 - val_accuracy: 0.8939\n",
            "Epoch 186/200\n",
            "704/704 [==============================] - 3s 4ms/step - loss: 0.1454 - accuracy: 0.9441 - val_loss: 0.3791 - val_accuracy: 0.8959\n",
            "Epoch 187/200\n",
            "704/704 [==============================] - 3s 4ms/step - loss: 0.1452 - accuracy: 0.9436 - val_loss: 0.3666 - val_accuracy: 0.8975\n",
            "Epoch 188/200\n",
            "704/704 [==============================] - 3s 4ms/step - loss: 0.1439 - accuracy: 0.9446 - val_loss: 0.3812 - val_accuracy: 0.8925\n",
            "Epoch 189/200\n",
            "704/704 [==============================] - 3s 4ms/step - loss: 0.1448 - accuracy: 0.9444 - val_loss: 0.3797 - val_accuracy: 0.8936\n",
            "Epoch 190/200\n",
            "704/704 [==============================] - 3s 4ms/step - loss: 0.1481 - accuracy: 0.9432 - val_loss: 0.3717 - val_accuracy: 0.8962\n",
            "Epoch 191/200\n",
            "704/704 [==============================] - 3s 4ms/step - loss: 0.1474 - accuracy: 0.9441 - val_loss: 0.3747 - val_accuracy: 0.8969\n",
            "Epoch 192/200\n",
            "704/704 [==============================] - 3s 4ms/step - loss: 0.1419 - accuracy: 0.9448 - val_loss: 0.3802 - val_accuracy: 0.8969\n",
            "Epoch 193/200\n",
            "704/704 [==============================] - 3s 4ms/step - loss: 0.1448 - accuracy: 0.9449 - val_loss: 0.3734 - val_accuracy: 0.8959\n",
            "Epoch 194/200\n",
            "704/704 [==============================] - 3s 4ms/step - loss: 0.1447 - accuracy: 0.9443 - val_loss: 0.3885 - val_accuracy: 0.8947\n",
            "Epoch 195/200\n",
            "704/704 [==============================] - 3s 4ms/step - loss: 0.1452 - accuracy: 0.9439 - val_loss: 0.3775 - val_accuracy: 0.8944\n",
            "Epoch 196/200\n",
            "704/704 [==============================] - 3s 4ms/step - loss: 0.1454 - accuracy: 0.9444 - val_loss: 0.3769 - val_accuracy: 0.8966\n",
            "Epoch 197/200\n",
            "704/704 [==============================] - 3s 4ms/step - loss: 0.1446 - accuracy: 0.9445 - val_loss: 0.3770 - val_accuracy: 0.8967\n",
            "Epoch 198/200\n",
            "704/704 [==============================] - 3s 4ms/step - loss: 0.1449 - accuracy: 0.9442 - val_loss: 0.3842 - val_accuracy: 0.8967\n",
            "Epoch 199/200\n",
            "704/704 [==============================] - 3s 4ms/step - loss: 0.1446 - accuracy: 0.9450 - val_loss: 0.3905 - val_accuracy: 0.8926\n",
            "Epoch 200/200\n",
            "704/704 [==============================] - 3s 4ms/step - loss: 0.1447 - accuracy: 0.9443 - val_loss: 0.3827 - val_accuracy: 0.8906\n"
          ]
        }
      ]
    },
    {
      "cell_type": "code",
      "metadata": {
        "colab": {
          "base_uri": "https://localhost:8080/",
          "height": 282
        },
        "id": "l4l9OpC7KDkD",
        "outputId": "2abd9db9-a918-46be-c1de-7201fa494a81"
      },
      "source": [
        "plt.plot(history.history['accuracy'], 'b-')\n",
        "plt.plot(history.history['val_accuracy'], 'r--')\n",
        "\n",
        "plt.plot(history.history['accuracy'], 'b-')\n",
        "plt.plot(history.history['val_accuracy'], 'r--')"
      ],
      "execution_count": 8,
      "outputs": [
        {
          "output_type": "execute_result",
          "data": {
            "text/plain": [
              "[<matplotlib.lines.Line2D at 0x7fb0fa30f190>]"
            ]
          },
          "metadata": {},
          "execution_count": 8
        },
        {
          "output_type": "display_data",
          "data": {
            "image/png": "[encoded data removed]",
            "text/plain": [
              "<Figure size 432x288 with 1 Axes>"
            ]
          },
          "metadata": {
            "needs_background": "light"
          }
        }
      ]
    },
    {
      "cell_type": "code",
      "metadata": {
        "colab": {
          "base_uri": "https://localhost:8080/"
        },
        "id": "t4iP3p0sL8dk",
        "outputId": "597d0046-1037-40cc-f729-cf270bed45b6"
      },
      "source": [
        "test_loss, test_acc = model.evaluate(test_images, test_labels, verbose =2)\n",
        "print(\"테스트 정확도:\", test_acc)"
      ],
      "execution_count": 10,
      "outputs": [
        {
          "output_type": "stream",
          "name": "stdout",
          "text": [
            "313/313 - 0s - loss: 0.3989 - accuracy: 0.8897\n",
            "테스트 정확도: 0.8896999955177307\n"
          ]
        }
      ]
    },
    {
      "cell_type": "code",
      "metadata": {
        "colab": {
          "base_uri": "https://localhost:8080/"
        },
        "id": "culmZKOsNU3p",
        "outputId": "216a06fa-1369-4a5e-bb07-0cbb835aa473"
      },
      "source": [
        "train_images = train_images.reshape(60000,784) #정규화\n",
        "print(train_images.shape)\n",
        "test_images = test_images.reshape(10000,784) #표준화\n",
        "print(test_images.shape)"
      ],
      "execution_count": 22,
      "outputs": [
        {
          "output_type": "stream",
          "name": "stdout",
          "text": [
            "(60000, 784)\n",
            "(10000, 784)\n"
          ]
        }
      ]
    },
    {
      "cell_type": "code",
      "metadata": {
        "id": "m0gNlBIrOfGt"
      },
      "source": [
        "from sklearn.preprocessing import MinMaxScaler\n",
        "from sklearn.preprocessing import StandardScaler\n",
        "\n",
        "scaler = MinMaxScaler()\n",
        "train_images = scaler.fit_transform(train_images)\n",
        "\n",
        "scaler = StandardScaler()\n",
        "train_images = scaler.fit_transform(train_images)\n",
        "\n",
        "scaler = MinMaxScaler()\n",
        "test_images = scaler.fit_transform(test_images)\n",
        "\n",
        "scaler = StandardScaler()\n",
        "test_images = scaler.fit_transform(test_images)"
      ],
      "execution_count": 34,
      "outputs": []
    },
    {
      "cell_type": "code",
      "metadata": {
        "id": "0dtEA9zJTusz"
      },
      "source": [
        "train_images, test_images = train_images, test_images\n",
        "model = keras.models.Sequential([\n",
        "  keras.layers.Flatten(input_shape = (28,28)),\n",
        "  #keras.layers.Dropout(0.2),                               \n",
        "  keras.layers.Dense(128, activation = 'relu'),\n",
        "  keras.layers.Dense(128, activation = 'relu'),                              \n",
        "  keras.layers.Dense(64, activation = 'relu'),                              \n",
        "  keras.layers.Dense(10, activation = 'softmax')                              \n",
        "])"
      ],
      "execution_count": 36,
      "outputs": []
    },
    {
      "cell_type": "code",
      "metadata": {
        "colab": {
          "base_uri": "https://localhost:8080/",
          "height": 282
        },
        "id": "tketFbF0WjQv",
        "outputId": "58449a08-6ef4-4457-abe8-4c6911554eeb"
      },
      "source": [
        "plt.plot(history.history['accuracy'], 'b-')\n",
        "plt.plot(history.history['val_accuracy'], 'r--')"
      ],
      "execution_count": 37,
      "outputs": [
        {
          "output_type": "execute_result",
          "data": {
            "text/plain": [
              "[<matplotlib.lines.Line2D at 0x7fb0f6528610>]"
            ]
          },
          "metadata": {},
          "execution_count": 37
        },
        {
          "output_type": "display_data",
          "data": {
            "image/png": "[encoded data removed]",
            "text/plain": [
              "<Figure size 432x288 with 1 Axes>"
            ]
          },
          "metadata": {
            "needs_background": "light"
          }
        }
      ]
    },
    {
      "cell_type": "code",
      "metadata": {
        "id": "6yroxCnCXe27"
      },
      "source": [
        ""
      ],
      "execution_count": null,
      "outputs": []
    }
  ]
}