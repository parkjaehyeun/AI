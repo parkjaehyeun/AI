{
  "nbformat": 4,
  "nbformat_minor": 0,
  "metadata": {
    "colab": {
      "name": "Untitled0.ipynb",
      "provenance": [],
      "collapsed_sections": []
    },
    "kernelspec": {
      "name": "python3",
      "display_name": "Python 3"
    },
    "language_info": {
      "name": "python"
    }
  },
  "cells": [
    {
      "cell_type": "code",
      "metadata": {
        "id": "bpQwXaHqg9rj"
      },
      "source": [
        "import pandas as pd\n",
        "import matplotlib.pyplot as plt\n",
        "from sklearn.metrics import mean_absolute_error\n",
        "from sklearn.metrics import mean_squared_error as mse\n",
        "from sklearn import linear_model\n",
        "from sklearn.linear_model import LinearRegression\n",
        "import seaborn as sns\n",
        "from sklearn import cluster\n",
        "import numpy as np"
      ],
      "execution_count": null,
      "outputs": []
    },
    {
      "cell_type": "code",
      "metadata": {
        "id": "xQFohlpg91lk"
      },
      "source": [
        "from sklearn.datasets import load_iris\n",
        "iris= load_iris() #iris 데이터 로드함\n",
        "k = len(iris.target_names) #몇개의 군집으로 나눌지 결정"
      ],
      "execution_count": null,
      "outputs": []
    },
    {
      "cell_type": "code",
      "metadata": {
        "colab": {
          "base_uri": "https://localhost:8080/"
        },
        "id": "Ns3LV_8un5RC",
        "outputId": "6b6f475f-4e80-418a-d89f-abd6c8a8e399"
      },
      "source": [
        "print(\"kMeans() 군집화 적용\") #iris 데이터에 k-평균 군집화 알고리즘 적용\n",
        "model = cluster.KMeans(n_clusters=k) #여기서는 k가 3이여서 3개로 군집화 진향\n",
        "model.fit(iris.data)  #iris data를 입력으로 주어 모델을 최적화시킴\n",
        "labels = model.predict(iris.data) #그 후 iris.data를 입력으로 주고 labels을 얻음\n",
        "print('군집화 결과 labels : ', labels)\n",
        "a_counts = np.bincount(labels[:50]) #label을 출력한후 1/3 등분하여 넘파이의 bincount()함수에 넣음\n",
        "b_counts = np.bincount(labels[50:100])\n",
        "c_counts = np.bincount(labels[100:])"
      ],
      "execution_count": null,
      "outputs": [
        {
          "output_type": "stream",
          "name": "stdout",
          "text": [
            "kMeans() 군집화 적용\n",
            "군집화 결과 labels :  [0 0 0 0 0 0 0 0 0 0 0 0 0 0 0 0 0 0 0 0 0 0 0 0 0 0 0 0 0 0 0 0 0 0 0 0 0\n",
            " 0 0 0 0 0 0 0 0 0 0 0 0 0 1 1 2 1 1 1 1 1 1 1 1 1 1 1 1 1 1 1 1 1 1 1 1 1\n",
            " 1 1 1 2 1 1 1 1 1 1 1 1 1 1 1 1 1 1 1 1 1 1 1 1 1 1 2 1 2 2 2 2 1 2 2 2 2\n",
            " 2 2 1 1 2 2 2 2 1 2 1 2 1 2 2 1 1 2 2 2 2 2 1 2 2 2 2 1 2 2 2 1 2 2 2 1 2\n",
            " 2 1]\n"
          ]
        }
      ]
    },
    {
      "cell_type": "code",
      "metadata": {
        "colab": {
          "base_uri": "https://localhost:8080/"
        },
        "id": "MuQCiJzSo953",
        "outputId": "e5fb0dcb-9af8-45fb-8d95-eda00cd08df3"
      },
      "source": [
        "d = {0:np.argmax(a_counts), 1: np.argmax(b_counts), 2:np.argmax(c_counts)} #np.argmax를 이용하여 a_count 배열에서 가장 자주  출형하는 값을 0에 대응, b_count배열에서 가장 자주 출현하는 값을 1에 대응\n",
        "#시키는 방식으로 1:1 대응값을 가지는 딕셔너리 d 생성\n",
        "new_labels = np.copy(labels) #labels의 값을 new_labels에 복사한 후 for 문 실행\n",
        "for old,new in d.items(): #d의 key, value를 각각 old,new에 담음\n",
        "  new_labels[labels == old] = new #기존 lables의 old값을 new값으로 대치함\n",
        "print('다시 레이블링을 한 후의 new_labels = ', new_labels)"
      ],
      "execution_count": null,
      "outputs": [
        {
          "output_type": "stream",
          "name": "stdout",
          "text": [
            "다시 레이블링을 한 후의 new_labels =  [0 0 0 0 0 0 0 0 0 0 0 0 0 0 0 0 0 0 0 0 0 0 0 0 0 0 0 0 0 0 0 0 0 0 0 0 0\n",
            " 0 0 0 0 0 0 0 0 0 0 0 0 0 1 1 2 1 1 1 1 1 1 1 1 1 1 1 1 1 1 1 1 1 1 1 1 1\n",
            " 1 1 1 2 1 1 1 1 1 1 1 1 1 1 1 1 1 1 1 1 1 1 1 1 1 1 2 1 2 2 2 2 1 2 2 2 2\n",
            " 2 2 1 1 2 2 2 2 1 2 1 2 1 2 2 1 1 2 2 2 2 2 1 2 2 2 2 1 2 2 2 1 2 2 2 1 2\n",
            " 2 1]\n"
          ]
        }
      ]
    },
    {
      "cell_type": "code",
      "metadata": {
        "colab": {
          "base_uri": "https://localhost:8080/"
        },
        "id": "QNeiORxpqPIv",
        "outputId": "452a6184-7e03-42d6-8927-c1e39005fef5"
      },
      "source": [
        "from sklearn.metrics import accuracy_score\n",
        "print('iris 데이터의 군집화 정확도:', accuracy_score(iris.target, new_labels)) #새로운 new_labels와 iris.target의 값을 비교하여 정확도 출력"
      ],
      "execution_count": null,
      "outputs": [
        {
          "output_type": "stream",
          "name": "stdout",
          "text": [
            "iris 데이터의 군집화 정확도: 0.8933333333333333\n"
          ]
        }
      ]
    },
    {
      "cell_type": "code",
      "metadata": {
        "id": "NIx60aa-rjA3",
        "colab": {
          "base_uri": "https://localhost:8080/"
        },
        "outputId": "8b49df21-0da9-49aa-9660-a3c7c2c8dd89"
      },
      "source": [
        "import numpy as np\n",
        "from sklearn.neighbors import KNeighborsClassifier\n",
        "from sklearn import metrics\n",
        "from sklearn.metrics import confusion_matrix\n",
        "#각 강아지의 몸길이와 몸 높이\n",
        "dach_l = [75,77,83,81,73,99,72,83]\n",
        "dach_h = [24,29,19,32,21,22,19,34]\n",
        "samo_l = [76,78,82,88,76,83,81,89]\n",
        "samo_h = [55,58,53,54,61,52,57,64]\n",
        "mal_l = [35,39,38,41,30,57,41,35]\n",
        "mal_h = [23,26,19,30,21,24,28,20]\n",
        "\n",
        "#데이터 레이블링 \n",
        "#닥스훈트는 0으로 레이블링 진행\n",
        "#np.column_stack()함수를 사용하여 데이터를 [몸길이1,몸높이1],[몸길이2,몸높이2]...와 같은 형태로 묶음\n",
        "d_data = np.column_stack((dach_l,dach_h))\n",
        "d_label = np.zeros(len(d_data))\n",
        "\n",
        "#사모예드는 1로 레이블링\n",
        "s_data = np.column_stack((samo_l,samo_h))\n",
        "s_label = np.ones(len(s_data))\n",
        "\n",
        "#말티즈는 2로 레이블링\n",
        "m_data = np.column_stack((mal_l,mal_h))\n",
        "m_label = np.ones(len(m_data))+1\n",
        "\n",
        "#닥스훈트를 0, 사모예드를 1, 말티즈를 2로 레이블링하여 데이터와 레이블을 각각 생성\n",
        "\n",
        "\n",
        "dogs = np.concatenate((d_data, s_data, m_data))\n",
        "labels = np.concatenate((d_label, s_label, m_label))\n",
        "\n",
        "dog_classes = {0: \"닥스훈트\", 1:\"사모예드\", 2:\"말티즈\"}\n",
        "\n",
        "print(\"닥스훈트(0) : \", d_data)\n",
        "print(\"사모예드(1) : \", s_data)\n",
        "print(\"말티즈(2) : \", m_data)"
      ],
      "execution_count": 99,
      "outputs": [
        {
          "output_type": "stream",
          "name": "stdout",
          "text": [
            "닥스훈트(0) :  [[75 24]\n",
            " [77 29]\n",
            " [83 19]\n",
            " [81 32]\n",
            " [73 21]\n",
            " [99 22]\n",
            " [72 19]\n",
            " [83 34]]\n",
            "사모예드(1) :  [[76 55]\n",
            " [78 58]\n",
            " [82 53]\n",
            " [88 54]\n",
            " [76 61]\n",
            " [83 52]\n",
            " [81 57]\n",
            " [89 64]]\n",
            "말티즈(2) :  [[35 23]\n",
            " [39 26]\n",
            " [38 19]\n",
            " [41 30]\n",
            " [30 21]\n",
            " [57 24]\n",
            " [41 28]\n",
            " [35 20]]\n"
          ]
        }
      ]
    },
    {
      "cell_type": "code",
      "metadata": {
        "colab": {
          "base_uri": "https://localhost:8080/"
        },
        "id": "JAk4cugN9-zy",
        "outputId": "d5668071-8e5c-4aff-d5ec-21051ac03e56"
      },
      "source": [
        "#k 값이 3일때 knn 분류기의 분류결과 예측결과를 다음과 같은 혼동행렬로 표시하여라\n",
        "k = 3\n",
        "knn = KNeighborsClassifier(n_neighbors =k) #knn분류기 생성\n",
        "knn.fit(dogs,labels) #knn분류기에 데이터를 fit 시킴\n",
        "y_pred = knn.predict(dogs) #분류기에 dogs를 넣은 후예측결과를 y_pred에 넣음\n",
        "confusion_matrix(y_pred,labels) #예측결과를 혼동행렬로 표시\n",
        "print(confusion_matrix(labels,y_pred))"
      ],
      "execution_count": 100,
      "outputs": [
        {
          "output_type": "stream",
          "name": "stdout",
          "text": [
            "[[8 0 0]\n",
            " [0 8 0]\n",
            " [1 0 7]]\n"
          ]
        }
      ]
    },
    {
      "cell_type": "code",
      "metadata": {
        "colab": {
          "base_uri": "https://localhost:8080/"
        },
        "id": "TqQXy79qA_Qy",
        "outputId": "0da6194c-8b4a-4a14-997e-643af6a46cb8"
      },
      "source": [
        "#다음과 같은 개의 길이, 높이 데이터 A,B,C,D에 대하여 각각 n_neighbor를 3, 5, 7로 하여 아래와 같이 분류하고 그 분류 결과를 출력하여라\n",
        "\n",
        "A= [[58,30]]\n",
        "B= [[80,26]]\n",
        "C= [[80,41]]\n",
        "D = [[75,55]]\n",
        "#새로운 데이터 생성\n",
        "k = 3\n",
        "knn = KNeighborsClassifier(n_neighbors =k)\n",
        "knn.fit(dogs,labels)\n",
        "y_pred = knn.predict(A)\n",
        "# 위의 방식과 동일하게 진행\n",
        "print(\"A [[58,30]] : n_neighbors가 3 일때 : \",dog_classes[y_pred[0]])\n",
        "\n",
        "k = 5\n",
        "knn = KNeighborsClassifier(n_neighbors =k)\n",
        "knn.fit(dogs,labels)\n",
        "y_pred = knn.predict(A)\n",
        "print(\"A [[58,30]] : n_neighbors가 5 일때 : \",dog_classes[y_pred[0]])\n",
        "\n",
        "k = 7\n",
        "knn = KNeighborsClassifier(n_neighbors =k)\n",
        "knn.fit(dogs,labels)\n",
        "y_pred = knn.predict(A)\n",
        "print(\"A [[58,30]] : n_neighbors가 7 일때 : \",dog_classes[y_pred[0]])"
      ],
      "execution_count": 101,
      "outputs": [
        {
          "output_type": "stream",
          "name": "stdout",
          "text": [
            "A [[58,30]] : n_neighbors가 3 일때 :  말티즈\n",
            "A [[58,30]] : n_neighbors가 5 일때 :  말티즈\n",
            "A [[58,30]] : n_neighbors가 7 일때 :  닥스훈트\n"
          ]
        }
      ]
    },
    {
      "cell_type": "code",
      "metadata": {
        "colab": {
          "base_uri": "https://localhost:8080/"
        },
        "id": "4hDLmLuPqrKo",
        "outputId": "57c34d32-b020-4925-bd1f-da661ec858f1"
      },
      "source": [
        "k = 3\n",
        "knn = KNeighborsClassifier(n_neighbors =k)\n",
        "knn.fit(dogs,labels)\n",
        "y_pred = knn.predict(B)\n",
        "\n",
        "print(\"B [[80,26]] : n_neighbors가 3 일때 : \",dog_classes[y_pred[0]])\n",
        "\n",
        "k = 5\n",
        "knn = KNeighborsClassifier(n_neighbors =k)\n",
        "knn.fit(dogs,labels)\n",
        "y_pred = knn.predict(B)\n",
        "print(\"B [[80,26]] : n_neighbors가 5 일때 : \",dog_classes[y_pred[0]])\n",
        "\n",
        "k = 7\n",
        "knn = KNeighborsClassifier(n_neighbors =k)\n",
        "knn.fit(dogs,labels)\n",
        "y_pred = knn.predict(B)\n",
        "print(\"B [[80,26]] : n_neighbors가 7 일때 : \",dog_classes[y_pred[0]])"
      ],
      "execution_count": 102,
      "outputs": [
        {
          "output_type": "stream",
          "name": "stdout",
          "text": [
            "B [[80,26]] : n_neighbors가 3 일때 :  닥스훈트\n",
            "B [[80,26]] : n_neighbors가 5 일때 :  닥스훈트\n",
            "B [[80,26]] : n_neighbors가 7 일때 :  닥스훈트\n"
          ]
        }
      ]
    },
    {
      "cell_type": "code",
      "metadata": {
        "id": "oJPv87aXzQ0X",
        "colab": {
          "base_uri": "https://localhost:8080/"
        },
        "outputId": "e5d05d5d-be1a-4445-af13-a947a3bb4d43"
      },
      "source": [
        "k = 3\n",
        "knn = KNeighborsClassifier(n_neighbors =k)\n",
        "knn.fit(dogs,labels)\n",
        "y_pred = knn.predict(C)\n",
        "\n",
        "print(\"C [[80,41]] : n_neighbors가 3 일때 : \",dog_classes[y_pred[0]])\n",
        "\n",
        "k = 5\n",
        "knn = KNeighborsClassifier(n_neighbors =k)\n",
        "knn.fit(dogs,labels)\n",
        "y_pred = knn.predict(C)\n",
        "print(\"C [[80,41]] : n_neighbors가 5 일때 : \",dog_classes[y_pred[0]])\n",
        "\n",
        "k = 7\n",
        "knn = KNeighborsClassifier(n_neighbors =k)\n",
        "knn.fit(dogs,labels)\n",
        "y_pred = knn.predict(C)\n",
        "print(\"C [[80,41]] : n_neighbors가 7 일때 : \",dog_classes[y_pred[0]])\n",
        "C= [[80,41]]\n",
        "D = [[75,55]]"
      ],
      "execution_count": 103,
      "outputs": [
        {
          "output_type": "stream",
          "name": "stdout",
          "text": [
            "C [[80,41]] : n_neighbors가 3 일때 :  닥스훈트\n",
            "C [[80,41]] : n_neighbors가 5 일때 :  닥스훈트\n",
            "C [[80,41]] : n_neighbors가 7 일때 :  사모예드\n"
          ]
        }
      ]
    },
    {
      "cell_type": "code",
      "metadata": {
        "colab": {
          "base_uri": "https://localhost:8080/"
        },
        "id": "FI2ntYz_n6f_",
        "outputId": "6a2e9fcb-c51c-4fa8-92db-0060b9959402"
      },
      "source": [
        "k = 3\n",
        "knn = KNeighborsClassifier(n_neighbors =k)\n",
        "knn.fit(dogs,labels)\n",
        "y_pred = knn.predict(D)\n",
        "\n",
        "print(\"D  [[75,55]] : n_neighbors가 3 일때 : \",dog_classes[y_pred[0]])\n",
        "\n",
        "k = 5\n",
        "knn = KNeighborsClassifier(n_neighbors =k)\n",
        "knn.fit(dogs,labels)\n",
        "y_pred = knn.predict(D)\n",
        "print(\"D  [[75,55]] : n_neighbors가 5 일때 : \",dog_classes[y_pred[0]])\n",
        "\n",
        "k = 7\n",
        "knn = KNeighborsClassifier(n_neighbors =k)\n",
        "knn.fit(dogs,labels)\n",
        "y_pred = knn.predict(D)\n",
        "print(\"D  [[75,55]] : n_neighbors가 7 일때 : \",dog_classes[y_pred[0]])\n"
      ],
      "execution_count": 104,
      "outputs": [
        {
          "output_type": "stream",
          "name": "stdout",
          "text": [
            "D  [[75,55]] : n_neighbors가 3 일때 :  사모예드\n",
            "D  [[75,55]] : n_neighbors가 5 일때 :  사모예드\n",
            "D  [[75,55]] : n_neighbors가 7 일때 :  사모예드\n"
          ]
        }
      ]
    },
    {
      "cell_type": "markdown",
      "metadata": {
        "id": "IikST4mAogBv"
      },
      "source": [
        "5.3의 결과로 보아 위의 데이터 중에서 k값에 영향을 받지 않는 데이터는 무엇이며 그 이유는?\n",
        "\n",
        "=> B와 D는 5.3의 결과값을 보았을때 k값에 영향을 받지 않고 한결같이 닥스훈트와 사모예드가 나왔다. 그 이유는 밑의 산포도 그래프를 보면 알겠지만 B와 D가 확실하게 닥스훈트와 사모예드의 군집에 편향되어있는것을 볼수있기 때문이다."
      ]
    },
    {
      "cell_type": "code",
      "metadata": {
        "colab": {
          "base_uri": "https://localhost:8080/",
          "height": 313
        },
        "id": "KnczefkgpAtn",
        "outputId": "8da54041-c648-48fc-9688-bc3ccf1ac957"
      },
      "source": [
        "plt.scatter(dach_l,dach_h,c='red',label='Dachshund')\n",
        "plt.scatter(samo_l,samo_h,c='blue',marker ='^',label = \"Samoyed\")\n",
        "plt.scatter(mal_l,mal_h, c ='green',marker ='s',label = \"Maltese\")\n",
        "#C는 마커의 색깔, label은 분류이름, 마커 ^는 세모, 마커 s는 네모 \n",
        "plt.scatter(A[0][0],A[0][1],s= 500,label = \"A\")\n",
        "plt.scatter(B[0][0],B[0][1],s= 500,label = \"B\")\n",
        "plt.scatter(C[0][0],C[0][1],s= 500,label = \"C\")\n",
        "plt.scatter(D[0][0],D[0][1],s= 500,label = \"D\")\n",
        "#plt.scatter에서 s는 사이즈를 의미, A,B,C,D의 사이즈를 크게 출력함\n",
        "plt.xlabel(\"Length\")\n",
        "plt.ylabel(\"Height\")\n",
        "plt.title(\"Dog size\")\n",
        "plt.legend(loc =\"upper left\")"
      ],
      "execution_count": 123,
      "outputs": [
        {
          "output_type": "execute_result",
          "data": {
            "text/plain": [
              "<matplotlib.legend.Legend at 0x7f2c59ea5490>"
            ]
          },
          "metadata": {},
          "execution_count": 123
        },
        {
          "output_type": "display_data",
          "data": {
            "image/png": "[encoded data removed]",
            "text/plain": [
              "<Figure size 432x288 with 1 Axes>"
            ]
          },
          "metadata": {
            "needs_background": "light"
          }
        }
      ]
    },
    {
      "cell_type": "code",
      "metadata": {
        "id": "ASv0zleWrv4T",
        "colab": {
          "base_uri": "https://localhost:8080/",
          "height": 299
        },
        "outputId": "e116d160-2f83-4dfd-90ee-a90ad9839df6"
      },
      "source": [
        "#5.6\n",
        "dach_l = [75,77,83,81,73,99,72,83]\n",
        "dach_h = [24,29,19,32,21,22,19,34]\n",
        "samo_l = [76,78,82,88,76,83,81,89]\n",
        "samo_h = [55,58,53,54,61,52,57,64]\n",
        "mal_l = [35,39,38,41,30,57,41,35]\n",
        "mal_h = [23,26,19,30,21,24,28,20]\n",
        "A_l = [58]\n",
        "A_h = [30]\n",
        "B_l= [80]\n",
        "B_h= [26]\n",
        "C_l= [80]\n",
        "C_h= [41]\n",
        "D_l= [75]\n",
        "D_h= [55]\n",
        "\n",
        "#리스트를 이어서 ndarray의 형태로 표현\n",
        "dog_l = np.array(dach_l+samo_l+mal_l+A_l+B_l+C_l+D_l) #더하기 연산을 통해서 리스트 연결\n",
        "dog_h = np.array(dach_h+samo_h+mal_h+A_h+B_h+C_h+D_h)\n",
        "dog_data = np.column_stack((dog_l,dog_h))\n",
        "\n",
        "plt.scatter(dog_l,dog_h,label = \"no labeled data\")\n",
        "plt.title(\"Dog data without label\")\n",
        "plt.legend(loc =\"upper left\")"
      ],
      "execution_count": 124,
      "outputs": [
        {
          "output_type": "execute_result",
          "data": {
            "text/plain": [
              "<matplotlib.legend.Legend at 0x7f2c5a14f610>"
            ]
          },
          "metadata": {},
          "execution_count": 124
        },
        {
          "output_type": "display_data",
          "data": {
            "image/png": "[encoded data removed]",
            "text/plain": [
              "<Figure size 432x288 with 1 Axes>"
            ]
          },
          "metadata": {
            "needs_background": "light"
          }
        }
      ]
    },
    {
      "cell_type": "code",
      "metadata": {
        "id": "ntA_WBYDpIni",
        "colab": {
          "base_uri": "https://localhost:8080/",
          "height": 294
        },
        "outputId": "cd571943-2f57-4dad-e8e9-e203fdcadf62"
      },
      "source": [
        "from sklearn import cluster\n",
        "\n",
        "def kmeans_predict_plot(X,k): #K평균 알고리즘 사용\n",
        "  model = cluster.KMeans(n_clusters =k) #sklearn에서 제공하는 cluster 모듈 사용\n",
        "  model.fit(X) #모델에 x값 피팅하여 이를 바탕으로 라벨링을 하는 기능 및 시각화 기능 추가함\n",
        "  labels = model.predict(X)\n",
        "  colors = np.array(['red','green','blue','magenta'])\n",
        "  plt.suptitle(\"k-means clustering, k={}\".format(k))\n",
        "  plt.scatter(X[:,0],X[:,1],color = colors[labels])\n",
        "\n",
        "kmeans_predict_plot(dog_data, k=2)"
      ],
      "execution_count": 125,
      "outputs": [
        {
          "output_type": "display_data",
          "data": {
            "image/png": "[encoded data removed]",
            "text/plain": [
              "<Figure size 432x288 with 1 Axes>"
            ]
          },
          "metadata": {
            "needs_background": "light"
          }
        }
      ]
    },
    {
      "cell_type": "code",
      "metadata": {
        "colab": {
          "base_uri": "https://localhost:8080/",
          "height": 294
        },
        "id": "NsoUBiAlLEOh",
        "outputId": "a75a18ff-fcfe-4ce7-89cc-a6e721c9274e"
      },
      "source": [
        "kmeans_predict_plot(dog_data, k=3)"
      ],
      "execution_count": 126,
      "outputs": [
        {
          "output_type": "display_data",
          "data": {
            "image/png": "[encoded data removed]",
            "text/plain": [
              "<Figure size 432x288 with 1 Axes>"
            ]
          },
          "metadata": {
            "needs_background": "light"
          }
        }
      ]
    },
    {
      "cell_type": "code",
      "metadata": {
        "colab": {
          "base_uri": "https://localhost:8080/",
          "height": 294
        },
        "id": "V7OOe9SdMjIv",
        "outputId": "be8a6803-f673-49c2-b61e-d5eddc03d6fb"
      },
      "source": [
        "kmeans_predict_plot(dog_data, k=4)"
      ],
      "execution_count": 127,
      "outputs": [
        {
          "output_type": "display_data",
          "data": {
            "image/png": "[encoded data removed]",
            "text/plain": [
              "<Figure size 432x288 with 1 Axes>"
            ]
          },
          "metadata": {
            "needs_background": "light"
          }
        }
      ]
    },
    {
      "cell_type": "code",
      "metadata": {
        "id": "Kqr43OKQMkhO"
      },
      "source": [
        ""
      ],
      "execution_count": null,
      "outputs": []
    }
  ]
}
