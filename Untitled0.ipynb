{
  "nbformat": 4,
  "nbformat_minor": 0,
  "metadata": {
    "colab": {
      "name": "Untitled0.ipynb",
      "provenance": [],
      "collapsed_sections": []
    },
    "kernelspec": {
      "name": "python3",
      "display_name": "Python 3"
    },
    "language_info": {
      "name": "python"
    }
  },
  "cells": [
    {
      "cell_type": "code",
      "metadata": {
        "colab": {
          "base_uri": "https://localhost:8080/"
        },
        "id": "rZjLx916dYtr",
        "outputId": "c4f719f5-03f6-457f-ad45-ccf48333b36a"
      },
      "source": [
        "import numpy as np\n",
        "c = np.random.randint(0,10,(10000,10000)) #0~10사이의 수를 범위로 가지는 1만x1만 사이즈의 행렬 생성\n",
        "print(c)\n",
        "c = c+1 #각 행렬의 element에 1씩 더함\n",
        "print(c)"
      ],
      "execution_count": null,
      "outputs": [
        {
          "output_type": "stream",
          "name": "stdout",
          "text": [
            "[[0 5 2 ... 5 3 6]\n",
            " [0 0 3 ... 0 5 0]\n",
            " [4 9 2 ... 4 4 6]\n",
            " ...\n",
            " [3 2 4 ... 1 3 5]\n",
            " [6 9 6 ... 2 6 0]\n",
            " [8 5 6 ... 9 9 0]]\n",
            "[[ 1  6  3 ...  6  4  7]\n",
            " [ 1  1  4 ...  1  6  1]\n",
            " [ 5 10  3 ...  5  5  7]\n",
            " ...\n",
            " [ 4  3  5 ...  2  4  6]\n",
            " [ 7 10  7 ...  3  7  1]\n",
            " [ 9  6  7 ... 10 10  1]]\n"
          ]
        }
      ]
    },
    {
      "cell_type": "code",
      "metadata": {
        "id": "IB8jT_SZdcBz"
      },
      "source": [
        "for i in range(c.shape[0]): #c의 행의 수만큼 반복함\n",
        "  if(i%2==0): #c의 행이 짝수 행이라면\n",
        "    for j in range(c.shape[1]):\n",
        "      c[i][j]=0 #c행에 있는 요소를 0으로 만들어줌\n",
        "  "
      ],
      "execution_count": null,
      "outputs": []
    },
    {
      "cell_type": "code",
      "metadata": {
        "colab": {
          "base_uri": "https://localhost:8080/"
        },
        "id": "74WcZfT3ecZt",
        "outputId": "4455af4f-abe9-474c-d9c4-473bb31e42e3"
      },
      "source": [
        "c"
      ],
      "execution_count": null,
      "outputs": [
        {
          "output_type": "execute_result",
          "data": {
            "text/plain": [
              "array([[ 0,  0,  0, ...,  0,  0,  0],\n",
              "       [ 7,  9,  9, ...,  9,  1,  6],\n",
              "       [ 0,  0,  0, ...,  0,  0,  0],\n",
              "       ...,\n",
              "       [ 9, 10,  9, ...,  6,  8,  1],\n",
              "       [ 0,  0,  0, ...,  0,  0,  0],\n",
              "       [10,  3,  2, ...,  1, 10,  3]])"
            ]
          },
          "metadata": {},
          "execution_count": 21
        }
      ]
    },
    {
      "cell_type": "code",
      "metadata": {
        "colab": {
          "base_uri": "https://localhost:8080/"
        },
        "id": "Lc_TfPJkcPt0",
        "outputId": "54e8d7e6-3a9e-4ae7-f2ae-1f4b1912d2a8"
      },
      "source": [
        "for i in range(c.shape[0]): #c의 행의 수만큼 반복\n",
        "    for j in range(c.shape[1]): #c의 열의 수만큼 반복\n",
        "      if(j%2==0): #짝수열이면\n",
        "        c[i][j]=0 #c[i][j]의 요소를 0으로 만듬\n",
        "print(c)"
      ],
      "execution_count": null,
      "outputs": [
        {
          "output_type": "stream",
          "name": "stdout",
          "text": [
            "[[ 0  0  0 ...  0  0  0]\n",
            " [ 0  1  0 ...  1  0  1]\n",
            " [ 0  0  0 ...  0  0  0]\n",
            " ...\n",
            " [ 0  3  0 ...  2  0  6]\n",
            " [ 0  0  0 ...  0  0  0]\n",
            " [ 0  6  0 ... 10  0  1]]\n"
          ]
        }
      ]
    },
    {
      "cell_type": "code",
      "metadata": {
        "colab": {
          "base_uri": "https://localhost:8080/"
        },
        "id": "BQO45j6Sceqy",
        "outputId": "37e29ccb-4c32-4ab2-978f-df0b09982e8e"
      },
      "source": [
        "import pandas as pd\n",
        "a_series = pd.Series(['A','B','C','D','E','F','G'])\n",
        "b_series = pd.Series([130,250,190,300,210,220,170])\n",
        "c_series = pd.Series([1.9,2.6,2.2,2.9,2.4,2.3,2.2])\n",
        "d_series = pd.Series([16.3, 10.2, 11.1, 7.1, 12.1, 13.2, 14.2])\n",
        "df = pd.DataFrame({'name':a_series,'horse power' : b_series, 'weight' : c_series, 'efficiency' : d_series})\n",
        "print(df)\n",
        "## 생성한 시리지들을 모아 하나의 데이터프레임으로 만들어준다\n",
        "## 파이썬 딕셔너리 구조로 열의 이름을 키로 데이터를 값으로 입력한다."
      ],
      "execution_count": null,
      "outputs": [
        {
          "output_type": "stream",
          "name": "stdout",
          "text": [
            "  name  horse power  weight  efficiency\n",
            "0    A          130     1.9        16.3\n",
            "1    B          250     2.6        10.2\n",
            "2    C          190     2.2        11.1\n",
            "3    D          300     2.9         7.1\n",
            "4    E          210     2.4        12.1\n",
            "5    F          220     2.3        13.2\n",
            "6    G          170     2.2        14.2\n"
          ]
        }
      ]
    },
    {
      "cell_type": "code",
      "metadata": {
        "colab": {
          "base_uri": "https://localhost:8080/"
        },
        "id": "TsEIQvY2dluB",
        "outputId": "96010e24-f98c-4630-a874-4a60cf664d78"
      },
      "source": [
        "df.set_index('name', inplace = True)\n",
        "print(df)"
      ],
      "execution_count": null,
      "outputs": [
        {
          "output_type": "stream",
          "name": "stdout",
          "text": [
            "      horse power  weight  efficiency\n",
            "name                                 \n",
            "A             130     1.9        16.3\n",
            "B             250     2.6        10.2\n",
            "C             190     2.2        11.1\n",
            "D             300     2.9         7.1\n",
            "E             210     2.4        12.1\n",
            "F             220     2.3        13.2\n",
            "G             170     2.2        14.2\n"
          ]
        }
      ]
    },
    {
      "cell_type": "code",
      "metadata": {
        "colab": {
          "base_uri": "https://localhost:8080/"
        },
        "id": "ibfDzUVsfVHS",
        "outputId": "e330205d-5a67-4b02-f1b1-bb8adcbb43ed"
      },
      "source": [
        "max_index = 0;\n",
        "max =0;\n",
        "for i in range(len(b_series)): #위에서 df를 만들때 사용한 series들을 활용함\n",
        "  v= b_series[i]*d_series[i]  #a_series는 이름 b_series는 마력 d_series는 효율성을 나타낸다 \n",
        "  if(v>max):\n",
        "    max = v\n",
        "    max_index = i; #반복문을 통해 가장 큰값을 가진 index를 뽑아내서 a_series에 통해 값을 추출한다\n",
        "print(\"마력과 연비를 곱한 값중 최대값을 가진 차종 : \",a_series[max_index])"
      ],
      "execution_count": null,
      "outputs": [
        {
          "output_type": "stream",
          "name": "stdout",
          "text": [
            "마력과 연비를 곱한 값중 최대값을 가진 차종 :  F\n"
          ]
        }
      ]
    },
    {
      "cell_type": "code",
      "metadata": {
        "id": "bpQwXaHqg9rj"
      },
      "source": [
        "#마력과 연비 사이의 상관관계 구하기\n",
        "# 선형 회귀 분석을 통해 선형 회귀 모델의 절편과 계수 구하기\n",
        "# 예측점수 출력"
      ],
      "execution_count": null,
      "outputs": []
    },
    {
      "cell_type": "code",
      "metadata": {
        "id": "gDUzN8IRXDBW"
      },
      "source": [
        "import matplotlib"
      ],
      "execution_count": null,
      "outputs": []
    }
  ]
}